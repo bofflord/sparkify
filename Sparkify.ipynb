{
 "cells": [
  {
   "cell_type": "markdown",
   "metadata": {},
   "source": [
    "# Sparkify Project Workspace\n",
    "This workspace contains a tiny subset (128MB) of the full dataset available (12GB). Feel free to use this workspace to build your project, or to explore a smaller subset with Spark before deploying your cluster on the cloud. Instructions for setting up your Spark cluster is included in the last lesson of the Extracurricular Spark Course content.\n",
    "\n",
    "You can follow the steps below to guide your data analysis and model building portion of this project."
   ]
  },
  {
   "cell_type": "code",
   "execution_count": 127,
   "metadata": {},
   "outputs": [],
   "source": [
    "# import libraries\n",
    "\n",
    "import numpy as np\n",
    "import pandas as pd\n",
    "\n",
    "from pyspark.sql import SparkSession, Window\n",
    "\n",
    "#from pyspark.sql.functions import udf, sum as Fsum, desc, asc, countDistinct, col, to_date, year, month, dayofmonth, minute, hour, datediff, min, max, isnull, when\n",
    "import pyspark.sql.functions as F\n",
    "\n",
    "from pyspark.sql.types import IntegerType, DateType, TimestampType, StringType, DoubleType, LongType\n",
    "\n",
    "%matplotlib inline\n",
    "import matplotlib.pyplot as plt\n",
    "\n",
    "import datetime\n",
    "\n",
    "from pyspark.ml.feature import VectorAssembler, MinMaxScaler\n",
    "from pyspark.ml import Pipeline\n",
    "\n",
    "from pyspark.ml.evaluation import BinaryClassificationEvaluator\n",
    "from pyspark.ml.tuning import ParamGridBuilder, CrossValidator\n",
    "from pyspark.ml.classification import LogisticRegression\n",
    "\n",
    "# for model evaluation\n",
    "from sklearn.metrics import f1_score, recall_score, precision_score\n",
    "\n",
    "# for Principal Component Analysis\n",
    "from pyspark.ml.feature import PCA\n"
   ]
  },
  {
   "cell_type": "code",
   "execution_count": 2,
   "metadata": {},
   "outputs": [],
   "source": [
    "# create a Spark session\n",
    "spark = SparkSession \\\n",
    "    .builder \\\n",
    "    .appName(\"Sparkify\") \\\n",
    "    .getOrCreate()"
   ]
  },
  {
   "cell_type": "code",
   "execution_count": 3,
   "metadata": {
    "scrolled": true
   },
   "outputs": [
    {
     "name": "stdout",
     "output_type": "stream",
     "text": [
      "Collecting pixiedust\n",
      "\u001b[?25l  Downloading https://files.pythonhosted.org/packages/bc/a8/e84b2ed12ee387589c099734b6f914a520e1fef2733c955982623080e813/pixiedust-1.1.17.tar.gz (197kB)\n",
      "\u001b[K    100% |████████████████████████████████| 204kB 2.2MB/s ta 0:00:01\n",
      "\u001b[?25hCollecting mpld3 (from pixiedust)\n",
      "\u001b[?25l  Downloading https://files.pythonhosted.org/packages/91/95/a52d3a83d0a29ba0d6898f6727e9858fe7a43f6c2ce81a5fe7e05f0f4912/mpld3-0.3.tar.gz (788kB)\n",
      "\u001b[K    100% |████████████████████████████████| 798kB 3.4MB/s ta 0:00:01\n",
      "\u001b[?25hRequirement already satisfied: lxml in /opt/conda/lib/python3.6/site-packages (from pixiedust) (4.1.1)\n",
      "Collecting geojson (from pixiedust)\n",
      "  Downloading https://files.pythonhosted.org/packages/e4/8d/9e28e9af95739e6d2d2f8d4bef0b3432da40b7c3588fbad4298c1be09e48/geojson-2.5.0-py2.py3-none-any.whl\n",
      "Collecting astunparse (from pixiedust)\n",
      "  Downloading https://files.pythonhosted.org/packages/2e/37/5dd0dd89b87bb5f0f32a7e775458412c52d78f230ab8d0c65df6aabc4479/astunparse-1.6.2-py2.py3-none-any.whl\n",
      "Requirement already satisfied: markdown in /opt/conda/lib/python3.6/site-packages (from pixiedust) (2.6.9)\n",
      "Requirement already satisfied: colour in /opt/conda/lib/python3.6/site-packages (from pixiedust) (0.1.5)\n",
      "Requirement already satisfied: requests in /opt/conda/lib/python3.6/site-packages (from pixiedust) (2.18.4)\n",
      "Requirement already satisfied: wheel<1.0,>=0.23.0 in /opt/conda/lib/python3.6/site-packages (from astunparse->pixiedust) (0.30.0)\n",
      "Requirement already satisfied: six<2.0,>=1.6.1 in /opt/conda/lib/python3.6/site-packages (from astunparse->pixiedust) (1.11.0)\n",
      "Requirement already satisfied: chardet<3.1.0,>=3.0.2 in /opt/conda/lib/python3.6/site-packages (from requests->pixiedust) (3.0.4)\n",
      "Requirement already satisfied: idna<2.7,>=2.5 in /opt/conda/lib/python3.6/site-packages (from requests->pixiedust) (2.6)\n",
      "Requirement already satisfied: urllib3<1.23,>=1.21.1 in /opt/conda/lib/python3.6/site-packages (from requests->pixiedust) (1.22)\n",
      "Requirement already satisfied: certifi>=2017.4.17 in /opt/conda/lib/python3.6/site-packages (from requests->pixiedust) (2017.11.5)\n",
      "Building wheels for collected packages: pixiedust, mpld3\n",
      "  Running setup.py bdist_wheel for pixiedust ... \u001b[?25ldone\n",
      "\u001b[?25h  Stored in directory: /root/.cache/pip/wheels/25/fa/a5/09c1e8f4c91b34c5f7f4ac6e41be81dd0667030a2372546a8d\n",
      "  Running setup.py bdist_wheel for mpld3 ... \u001b[?25ldone\n",
      "\u001b[?25h  Stored in directory: /root/.cache/pip/wheels/c0/47/fb/8a64f89aecfe0059830479308ad42d62e898a3e3cefdf6ba28\n",
      "Successfully built pixiedust mpld3\n",
      "Installing collected packages: mpld3, geojson, astunparse, pixiedust\n",
      "Successfully installed astunparse-1.6.2 geojson-2.5.0 mpld3-0.3 pixiedust-1.1.17\n"
     ]
    }
   ],
   "source": [
    "# Install additional libraries via pip in the current Jupyter kernel\n",
    "import sys\n",
    "!{sys.executable} -m pip install pixiedust"
   ]
  },
  {
   "cell_type": "code",
   "execution_count": 4,
   "metadata": {},
   "outputs": [
    {
     "name": "stdout",
     "output_type": "stream",
     "text": [
      "Pixiedust database opened successfully\n",
      "Table VERSION_TRACKER created successfully\n",
      "Table METRICS_TRACKER created successfully\n",
      "\n",
      "Share anonymous install statistics? (opt-out instructions)\n",
      "\n",
      "PixieDust will record metadata on its environment the next time the package is installed or updated. The data is anonymized and aggregated to help plan for future releases, and records only the following values:\n",
      "\n",
      "{\n",
      "   \"data_sent\": currentDate,\n",
      "   \"runtime\": \"python\",\n",
      "   \"application_version\": currentPixiedustVersion,\n",
      "   \"space_id\": nonIdentifyingUniqueId,\n",
      "   \"config\": {\n",
      "       \"repository_id\": \"https://github.com/ibm-watson-data-lab/pixiedust\",\n",
      "       \"target_runtimes\": [\"Data Science Experience\"],\n",
      "       \"event_id\": \"web\",\n",
      "       \"event_organizer\": \"dev-journeys\"\n",
      "   }\n",
      "}\n",
      "You can opt out by calling pixiedust.optOut() in a new cell.\n"
     ]
    },
    {
     "data": {
      "text/html": [
       "\n",
       "        <div style=\"margin:10px\">\n",
       "            <a href=\"https://github.com/ibm-watson-data-lab/pixiedust\" target=\"_new\">\n",
       "                <img src=\"https://github.com/ibm-watson-data-lab/pixiedust/raw/master/docs/_static/pd_icon32.png\" style=\"float:left;margin-right:10px\"/>\n",
       "            </a>\n",
       "            <span>Pixiedust version 1.1.17</span>\n",
       "        </div>\n",
       "        "
      ],
      "text/plain": [
       "<IPython.core.display.HTML object>"
      ]
     },
     "metadata": {},
     "output_type": "display_data"
    },
    {
     "name": "stdout",
     "output_type": "stream",
     "text": [
      "\u001b[31mPixiedust runtime updated. Please restart kernel\u001b[0m\n",
      "Table SPARK_PACKAGES created successfully\n",
      "Table USER_PREFERENCES created successfully\n",
      "Table service_connections created successfully\n"
     ]
    }
   ],
   "source": [
    "import pixiedust"
   ]
  },
  {
   "cell_type": "code",
   "execution_count": 5,
   "metadata": {
    "scrolled": true
   },
   "outputs": [
    {
     "name": "stdout",
     "output_type": "stream",
     "text": [
      "Pixiedust will not collect anonymous install statistics.\n"
     ]
    }
   ],
   "source": [
    "pixiedust.optOut()"
   ]
  },
  {
   "cell_type": "markdown",
   "metadata": {},
   "source": [
    "# Load and Clean Dataset\n",
    "In this workspace, the mini-dataset file is `mini_sparkify_event_data.json`. Load and clean the dataset, checking for invalid or missing data - for example, records without userids or sessionids. "
   ]
  },
  {
   "cell_type": "code",
   "execution_count": 6,
   "metadata": {},
   "outputs": [],
   "source": [
    "path = \"mini_sparkify_event_data.json\"\n",
    "user_log = spark.read.json(path)"
   ]
  },
  {
   "cell_type": "markdown",
   "metadata": {},
   "source": [
    "# Exploratory Data Analysis\n",
    "When you're working with the full dataset, perform EDA by loading a small subset of the data and doing basic manipulations within Spark. In this workspace, you are already provided a small subset of data you can explore.\n",
    "\n",
    "### Define Churn\n",
    "\n",
    "Once you've done some preliminary analysis, create a column `Churn` to use as the label for your model. I suggest using the `Cancellation Confirmation` events to define your churn, which happen for both paid and free users. As a bonus task, you can also look into the `Downgrade` events.\n",
    "\n",
    "### Explore Data\n",
    "Once you've defined churn, perform some exploratory data analysis to observe the behavior for users who stayed vs users who churned. You can start by exploring aggregates on these two groups of users, observing how much of a specific action they experienced per a certain time unit or number of songs played."
   ]
  },
  {
   "cell_type": "markdown",
   "metadata": {},
   "source": [
    "#### Exploratory Data Analysis"
   ]
  },
  {
   "cell_type": "code",
   "execution_count": 7,
   "metadata": {
    "pixiedust": {
     "displayParams": {
      "filter": "{}",
      "handlerId": "tableView",
      "keyFields": "userId",
      "no_margin": "true",
      "table_showrows": "Missing values",
      "valueFields": "sessionId"
     }
    }
   },
   "outputs": [],
   "source": [
    "display(user_log)"
   ]
  },
  {
   "cell_type": "code",
   "execution_count": 8,
   "metadata": {
    "scrolled": true
   },
   "outputs": [
    {
     "name": "stdout",
     "output_type": "stream",
     "text": [
      "Analysis of column artist\n",
      "Statistical properties:\n",
      "+-------+------------------+\n",
      "|summary|            artist|\n",
      "+-------+------------------+\n",
      "|  count|            228108|\n",
      "|   mean| 551.0852017937219|\n",
      "| stddev|1217.7693079161374|\n",
      "|    min|               !!!|\n",
      "|    max| ÃÂlafur Arnalds|\n",
      "+-------+------------------+\n",
      "\n",
      "None\n",
      "\n",
      "Count of unique values in column:\n",
      "+----------------------+\n",
      "|count(DISTINCT artist)|\n",
      "+----------------------+\n",
      "|                 17655|\n",
      "+----------------------+\n",
      "\n",
      "None \n",
      "\n",
      "Analysis of column auth\n",
      "Statistical properties:\n",
      "+-------+----------+\n",
      "|summary|      auth|\n",
      "+-------+----------+\n",
      "|  count|    286500|\n",
      "|   mean|      null|\n",
      "| stddev|      null|\n",
      "|    min| Cancelled|\n",
      "|    max|Logged Out|\n",
      "+-------+----------+\n",
      "\n",
      "None\n",
      "\n",
      "Count of unique values in column:\n",
      "+--------------------+\n",
      "|count(DISTINCT auth)|\n",
      "+--------------------+\n",
      "|                   4|\n",
      "+--------------------+\n",
      "\n",
      "None \n",
      "\n",
      "Analysis of column firstName\n",
      "Statistical properties:\n",
      "+-------+---------+\n",
      "|summary|firstName|\n",
      "+-------+---------+\n",
      "|  count|   278154|\n",
      "|   mean|     null|\n",
      "| stddev|     null|\n",
      "|    min| Adelaida|\n",
      "|    max|   Zyonna|\n",
      "+-------+---------+\n",
      "\n",
      "None\n",
      "\n",
      "Count of unique values in column:\n",
      "+-------------------------+\n",
      "|count(DISTINCT firstName)|\n",
      "+-------------------------+\n",
      "|                      189|\n",
      "+-------------------------+\n",
      "\n",
      "None \n",
      "\n",
      "Analysis of column gender\n",
      "Statistical properties:\n",
      "+-------+------+\n",
      "|summary|gender|\n",
      "+-------+------+\n",
      "|  count|278154|\n",
      "|   mean|  null|\n",
      "| stddev|  null|\n",
      "|    min|     F|\n",
      "|    max|     M|\n",
      "+-------+------+\n",
      "\n",
      "None\n",
      "\n",
      "Count of unique values in column:\n",
      "+----------------------+\n",
      "|count(DISTINCT gender)|\n",
      "+----------------------+\n",
      "|                     2|\n",
      "+----------------------+\n",
      "\n",
      "None \n",
      "\n",
      "Analysis of column itemInSession\n",
      "Statistical properties:\n",
      "+-------+------------------+\n",
      "|summary|     itemInSession|\n",
      "+-------+------------------+\n",
      "|  count|            286500|\n",
      "|   mean|114.41421291448516|\n",
      "| stddev|129.76726201140994|\n",
      "|    min|                 0|\n",
      "|    max|              1321|\n",
      "+-------+------------------+\n",
      "\n",
      "None\n",
      "\n",
      "Count of unique values in column:\n",
      "+-----------------------------+\n",
      "|count(DISTINCT itemInSession)|\n",
      "+-----------------------------+\n",
      "|                         1322|\n",
      "+-----------------------------+\n",
      "\n",
      "None \n",
      "\n",
      "Analysis of column lastName\n",
      "Statistical properties:\n",
      "+-------+--------+\n",
      "|summary|lastName|\n",
      "+-------+--------+\n",
      "|  count|  278154|\n",
      "|   mean|    null|\n",
      "| stddev|    null|\n",
      "|    min|   Adams|\n",
      "|    max|  Wright|\n",
      "+-------+--------+\n",
      "\n",
      "None\n",
      "\n",
      "Count of unique values in column:\n",
      "+------------------------+\n",
      "|count(DISTINCT lastName)|\n",
      "+------------------------+\n",
      "|                     173|\n",
      "+------------------------+\n",
      "\n",
      "None \n",
      "\n",
      "Analysis of column length\n",
      "Statistical properties:\n",
      "+-------+-----------------+\n",
      "|summary|           length|\n",
      "+-------+-----------------+\n",
      "|  count|           228108|\n",
      "|   mean|249.1171819778458|\n",
      "| stddev|99.23517921058361|\n",
      "|    min|          0.78322|\n",
      "|    max|       3024.66567|\n",
      "+-------+-----------------+\n",
      "\n",
      "None\n",
      "\n",
      "Count of unique values in column:\n",
      "+----------------------+\n",
      "|count(DISTINCT length)|\n",
      "+----------------------+\n",
      "|                 14865|\n",
      "+----------------------+\n",
      "\n",
      "None \n",
      "\n",
      "Analysis of column level\n",
      "Statistical properties:\n",
      "+-------+------+\n",
      "|summary| level|\n",
      "+-------+------+\n",
      "|  count|286500|\n",
      "|   mean|  null|\n",
      "| stddev|  null|\n",
      "|    min|  free|\n",
      "|    max|  paid|\n",
      "+-------+------+\n",
      "\n",
      "None\n",
      "\n",
      "Count of unique values in column:\n",
      "+---------------------+\n",
      "|count(DISTINCT level)|\n",
      "+---------------------+\n",
      "|                    2|\n",
      "+---------------------+\n",
      "\n",
      "None \n",
      "\n",
      "Analysis of column location\n",
      "Statistical properties:\n",
      "+-------+-----------------+\n",
      "|summary|         location|\n",
      "+-------+-----------------+\n",
      "|  count|           278154|\n",
      "|   mean|             null|\n",
      "| stddev|             null|\n",
      "|    min|       Albany, OR|\n",
      "|    max|Winston-Salem, NC|\n",
      "+-------+-----------------+\n",
      "\n",
      "None\n",
      "\n",
      "Count of unique values in column:\n",
      "+------------------------+\n",
      "|count(DISTINCT location)|\n",
      "+------------------------+\n",
      "|                     114|\n",
      "+------------------------+\n",
      "\n",
      "None \n",
      "\n",
      "Analysis of column method\n",
      "Statistical properties:\n",
      "+-------+------+\n",
      "|summary|method|\n",
      "+-------+------+\n",
      "|  count|286500|\n",
      "|   mean|  null|\n",
      "| stddev|  null|\n",
      "|    min|   GET|\n",
      "|    max|   PUT|\n",
      "+-------+------+\n",
      "\n",
      "None\n",
      "\n",
      "Count of unique values in column:\n",
      "+----------------------+\n",
      "|count(DISTINCT method)|\n",
      "+----------------------+\n",
      "|                     2|\n",
      "+----------------------+\n",
      "\n",
      "None \n",
      "\n",
      "Analysis of column page\n",
      "Statistical properties:\n",
      "+-------+-------+\n",
      "|summary|   page|\n",
      "+-------+-------+\n",
      "|  count| 286500|\n",
      "|   mean|   null|\n",
      "| stddev|   null|\n",
      "|    min|  About|\n",
      "|    max|Upgrade|\n",
      "+-------+-------+\n",
      "\n",
      "None\n",
      "\n",
      "Count of unique values in column:\n",
      "+--------------------+\n",
      "|count(DISTINCT page)|\n",
      "+--------------------+\n",
      "|                  22|\n",
      "+--------------------+\n",
      "\n",
      "None \n",
      "\n",
      "Analysis of column registration\n",
      "Statistical properties:\n",
      "+-------+--------------------+\n",
      "|summary|        registration|\n",
      "+-------+--------------------+\n",
      "|  count|              278154|\n",
      "|   mean|1.535358834084427...|\n",
      "| stddev| 3.291321616327586E9|\n",
      "|    min|       1521380675000|\n",
      "|    max|       1543247354000|\n",
      "+-------+--------------------+\n",
      "\n",
      "None\n",
      "\n",
      "Count of unique values in column:\n",
      "+----------------------------+\n",
      "|count(DISTINCT registration)|\n",
      "+----------------------------+\n",
      "|                         225|\n",
      "+----------------------------+\n",
      "\n",
      "None \n",
      "\n",
      "Analysis of column sessionId\n",
      "Statistical properties:\n",
      "+-------+-----------------+\n",
      "|summary|        sessionId|\n",
      "+-------+-----------------+\n",
      "|  count|           286500|\n",
      "|   mean|1041.526554973822|\n",
      "| stddev|726.7762634630741|\n",
      "|    min|                1|\n",
      "|    max|             2474|\n",
      "+-------+-----------------+\n",
      "\n",
      "None\n",
      "\n",
      "Count of unique values in column:\n",
      "+-------------------------+\n",
      "|count(DISTINCT sessionId)|\n",
      "+-------------------------+\n",
      "|                     2354|\n",
      "+-------------------------+\n",
      "\n",
      "None \n",
      "\n",
      "Analysis of column song\n",
      "Statistical properties:\n",
      "+-------+--------------------+\n",
      "|summary|                song|\n",
      "+-------+--------------------+\n",
      "|  count|              228108|\n",
      "|   mean|            Infinity|\n",
      "| stddev|                 NaN|\n",
      "|    min|\u001c",
      "ÃÂg ÃÂtti Gr...|\n",
      "|    max|ÃÂau hafa slopp...|\n",
      "+-------+--------------------+\n",
      "\n",
      "None\n",
      "\n",
      "Count of unique values in column:\n",
      "+--------------------+\n",
      "|count(DISTINCT song)|\n",
      "+--------------------+\n",
      "|               58480|\n",
      "+--------------------+\n",
      "\n",
      "None \n",
      "\n",
      "Analysis of column status\n",
      "Statistical properties:\n",
      "+-------+------------------+\n",
      "|summary|            status|\n",
      "+-------+------------------+\n",
      "|  count|            286500|\n",
      "|   mean|210.05459685863875|\n",
      "| stddev| 31.50507848842214|\n",
      "|    min|               200|\n",
      "|    max|               404|\n",
      "+-------+------------------+\n",
      "\n",
      "None\n",
      "\n",
      "Count of unique values in column:\n",
      "+----------------------+\n",
      "|count(DISTINCT status)|\n",
      "+----------------------+\n",
      "|                     3|\n",
      "+----------------------+\n",
      "\n",
      "None \n",
      "\n",
      "Analysis of column ts\n",
      "Statistical properties:\n",
      "+-------+--------------------+\n",
      "|summary|                  ts|\n",
      "+-------+--------------------+\n",
      "|  count|              286500|\n",
      "|   mean|1.540956889810483...|\n",
      "| stddev|1.5075439608226302E9|\n",
      "|    min|       1538352117000|\n",
      "|    max|       1543799476000|\n",
      "+-------+--------------------+\n",
      "\n",
      "None\n",
      "\n",
      "Count of unique values in column:\n",
      "+------------------+\n",
      "|count(DISTINCT ts)|\n",
      "+------------------+\n",
      "|            277447|\n",
      "+------------------+\n",
      "\n",
      "None \n",
      "\n",
      "Analysis of column userAgent\n",
      "Statistical properties:\n",
      "+-------+--------------------+\n",
      "|summary|           userAgent|\n",
      "+-------+--------------------+\n",
      "|  count|              278154|\n",
      "|   mean|                null|\n",
      "| stddev|                null|\n",
      "|    min|\"Mozilla/5.0 (Mac...|\n",
      "|    max|Mozilla/5.0 (comp...|\n",
      "+-------+--------------------+\n",
      "\n",
      "None\n",
      "\n",
      "Count of unique values in column:\n",
      "+-------------------------+\n",
      "|count(DISTINCT userAgent)|\n",
      "+-------------------------+\n",
      "|                       56|\n",
      "+-------------------------+\n",
      "\n",
      "None \n",
      "\n",
      "Analysis of column userId\n",
      "Statistical properties:\n",
      "+-------+-----------------+\n",
      "|summary|           userId|\n",
      "+-------+-----------------+\n",
      "|  count|           286500|\n",
      "|   mean|59682.02278593872|\n",
      "| stddev|109091.9499991047|\n",
      "|    min|                 |\n",
      "|    max|               99|\n",
      "+-------+-----------------+\n",
      "\n",
      "None\n",
      "\n",
      "Count of unique values in column:\n",
      "+----------------------+\n",
      "|count(DISTINCT userId)|\n",
      "+----------------------+\n",
      "|                   226|\n",
      "+----------------------+\n",
      "\n",
      "None \n",
      "\n"
     ]
    }
   ],
   "source": [
    "for column in user_log.columns:\n",
    "    print(\"Analysis of column {}\".format(column))\n",
    "    print(\"Statistical properties:\")\n",
    "    print(user_log.describe(column).show())\n",
    "    print(\"\\nCount of unique values in column:\")\n",
    "    print(user_log.select(F.countDistinct(column)).show(),\"\\n\")"
   ]
  },
  {
   "cell_type": "code",
   "execution_count": 9,
   "metadata": {
    "scrolled": true
   },
   "outputs": [
    {
     "name": "stdout",
     "output_type": "stream",
     "text": [
      "+------+------+--------------------+------+\n",
      "|status|method|                page| count|\n",
      "+------+------+--------------------+------+\n",
      "|   200|   GET|            Register|    18|\n",
      "|   200|   GET|Cancellation Conf...|    52|\n",
      "|   200|   GET|             Upgrade|   499|\n",
      "|   200|   GET|               About|   924|\n",
      "|   200|   GET|            Settings|  1514|\n",
      "|   200|   GET|                Help|  1726|\n",
      "|   200|   GET|           Downgrade|  2055|\n",
      "|   200|   GET|         Roll Advert|  3933|\n",
      "|   200|   GET|                Home| 14457|\n",
      "|   200|   PUT|     Add to Playlist|  6526|\n",
      "|   200|   PUT|            NextSong|228108|\n",
      "|   307|   PUT| Submit Registration|     5|\n",
      "|   307|   PUT|              Cancel|    52|\n",
      "|   307|   PUT|    Submit Downgrade|    63|\n",
      "|   307|   PUT|      Submit Upgrade|   159|\n",
      "|   307|   PUT|       Save Settings|   310|\n",
      "|   307|   PUT|         Thumbs Down|  2546|\n",
      "|   307|   PUT|              Logout|  3226|\n",
      "|   307|   PUT|               Login|  3241|\n",
      "|   307|   PUT|          Add Friend|  4277|\n",
      "+------+------+--------------------+------+\n",
      "only showing top 20 rows\n",
      "\n"
     ]
    }
   ],
   "source": [
    "# further analysis of relationship between page and status...\n",
    "user_log.groupBy([\"status\", \"method\", \"page\"]).count().orderBy(\"status\", \"method\", \"count\").show()"
   ]
  },
  {
   "cell_type": "code",
   "execution_count": 10,
   "metadata": {
    "scrolled": true
   },
   "outputs": [
    {
     "name": "stdout",
     "output_type": "stream",
     "text": [
      "['Mozilla/5.0 (X11; Ubuntu; Linux i686; rv:31.0) Gecko/20100101 Firefox/31.0', '\"Mozilla/5.0 (Macintosh; Intel Mac OS X 10_6_8) AppleWebKit/537.36 (KHTML, like Gecko) Chrome/36.0.1985.143 Safari/537.36\"', '\"Mozilla/5.0 (Macintosh; Intel Mac OS X 10_8_5) AppleWebKit/537.36 (KHTML, like Gecko) Chrome/37.0.2062.94 Safari/537.36\"', '\"Mozilla/5.0 (Macintosh; Intel Mac OS X 10_8_5) AppleWebKit/537.36 (KHTML, like Gecko) Chrome/36.0.1985.143 Safari/537.36\"', 'Mozilla/5.0 (Macintosh; Intel Mac OS X 10.6; rv:31.0) Gecko/20100101 Firefox/31.0', '\"Mozilla/5.0 (Macintosh; Intel Mac OS X 10_7_5) AppleWebKit/537.36 (KHTML, like Gecko) Chrome/36.0.1985.125 Safari/537.36\"', '\"Mozilla/5.0 (Windows NT 6.2; WOW64) AppleWebKit/537.36 (KHTML, like Gecko) Chrome/36.0.1985.143 Safari/537.36\"', '\"Mozilla/5.0 (Macintosh; Intel Mac OS X 10_9_2) AppleWebKit/537.75.14 (KHTML, like Gecko) Version/7.0.3 Safari/537.75.14\"', '\"Mozilla/5.0 (Macintosh; Intel Mac OS X 10_7_5) AppleWebKit/537.77.4 (KHTML, like Gecko) Version/6.1.5 Safari/537.77.4\"', 'Mozilla/5.0 (compatible; MSIE 10.0; Windows NT 6.1; WOW64; Trident/6.0)', 'Mozilla/5.0 (Windows NT 6.1; rv:31.0) Gecko/20100101 Firefox/31.0', 'Mozilla/5.0 (Windows NT 6.1; WOW64; rv:24.0) Gecko/20100101 Firefox/24.0', '\"Mozilla/5.0 (Macintosh; Intel Mac OS X 10_9_2) AppleWebKit/537.74.9 (KHTML, like Gecko) Version/7.0.2 Safari/537.74.9\"', 'Mozilla/5.0 (compatible; MSIE 9.0; Windows NT 6.1; Trident/5.0)', '\"Mozilla/5.0 (Macintosh; Intel Mac OS X 10_9_4) AppleWebKit/537.36 (KHTML, like Gecko) Chrome/35.0.1916.153 Safari/537.36\"', '\"Mozilla/5.0 (Macintosh; Intel Mac OS X 10_10) AppleWebKit/600.1.3 (KHTML, like Gecko) Version/8.0 Safari/600.1.3\"', '\"Mozilla/5.0 (X11; Linux x86_64) AppleWebKit/537.36 (KHTML, like Gecko) Chrome/36.0.1985.125 Safari/537.36\"', 'Mozilla/5.0 (X11; Ubuntu; Linux x86_64; rv:31.0) Gecko/20100101 Firefox/31.0', 'Mozilla/5.0 (Macintosh; Intel Mac OS X 10.8; rv:31.0) Gecko/20100101 Firefox/31.0', '\"Mozilla/5.0 (iPhone; CPU iPhone OS 7_1_1 like Mac OS X) AppleWebKit/537.51.2 (KHTML, like Gecko) Version/7.0 Mobile/11D201 Safari/9537.53\"', '\"Mozilla/5.0 (Macintosh; Intel Mac OS X 10_9_3) AppleWebKit/537.76.4 (KHTML, like Gecko) Version/7.0.4 Safari/537.76.4\"', '\"Mozilla/5.0 (Windows NT 6.1) AppleWebKit/537.36 (KHTML, like Gecko) Chrome/36.0.1985.125 Safari/537.36\"', 'Mozilla/5.0 (Windows NT 6.2; WOW64; rv:31.0) Gecko/20100101 Firefox/31.0', '\"Mozilla/5.0 (Windows NT 5.1) AppleWebKit/537.36 (KHTML, like Gecko) Chrome/36.0.1985.125 Safari/537.36\"', '\"Mozilla/5.0 (Windows NT 6.1; WOW64) AppleWebKit/537.36 (KHTML, like Gecko) Chrome/35.0.1916.153 Safari/537.36\"', 'Mozilla/5.0 (Macintosh; Intel Mac OS X 10.7; rv:31.0) Gecko/20100101 Firefox/31.0', 'Mozilla/5.0 (Windows NT 6.0; rv:31.0) Gecko/20100101 Firefox/31.0', '\"Mozilla/5.0 (iPad; CPU OS 7_1_1 like Mac OS X) AppleWebKit/537.51.2 (KHTML, like Gecko) Version/7.0 Mobile/11D201 Safari/9537.53\"', 'Mozilla/5.0 (X11; Linux x86_64; rv:31.0) Gecko/20100101 Firefox/31.0', '\"Mozilla/5.0 (iPhone; CPU iPhone OS 7_1 like Mac OS X) AppleWebKit/537.51.2 (KHTML, like Gecko) Version/7.0 Mobile/11D167 Safari/9537.53\"', '\"Mozilla/5.0 (Macintosh; Intel Mac OS X 10_9_2) AppleWebKit/537.36 (KHTML, like Gecko) Chrome/36.0.1985.125 Safari/537.36\"', '\"Mozilla/5.0 (X11; Linux x86_64) AppleWebKit/537.36 (KHTML, like Gecko) Chrome/36.0.1985.143 Safari/537.36\"', '\"Mozilla/5.0 (Windows NT 6.2; WOW64) AppleWebKit/537.36 (KHTML, like Gecko) Chrome/36.0.1985.125 Safari/537.36\"', 'Mozilla/5.0 (Windows NT 6.1; WOW64; rv:30.0) Gecko/20100101 Firefox/30.0', 'Mozilla/5.0 (Windows NT 6.1; WOW64; rv:32.0) Gecko/20100101 Firefox/32.0', '\"Mozilla/5.0 (Windows NT 6.1; WOW64) AppleWebKit/537.36 (KHTML, like Gecko) Chrome/37.0.2062.94 Safari/537.36\"', 'Mozilla/5.0 (Windows NT 6.1; WOW64; Trident/7.0; rv:11.0) like Gecko', '\"Mozilla/5.0 (Windows NT 6.3; WOW64) AppleWebKit/537.36 (KHTML, like Gecko) Chrome/36.0.1985.125 Safari/537.36\"', '\"Mozilla/5.0 (Windows NT 5.1) AppleWebKit/537.36 (KHTML, like Gecko) Chrome/36.0.1985.143 Safari/537.36\"', '\"Mozilla/5.0 (Macintosh; Intel Mac OS X 10_10) AppleWebKit/600.1.8 (KHTML, like Gecko) Version/8.0 Safari/600.1.8\"', 'Mozilla/5.0 (Windows NT 6.3; WOW64; rv:31.0) Gecko/20100101 Firefox/31.0', '\"Mozilla/5.0 (iPhone; CPU iPhone OS 7_1_2 like Mac OS X) AppleWebKit/537.51.2 (KHTML, like Gecko) Version/7.0 Mobile/11D257 Safari/9537.53\"', '\"Mozilla/5.0 (Windows NT 6.3; WOW64) AppleWebKit/537.36 (KHTML, like Gecko) Chrome/36.0.1985.143 Safari/537.36\"', '\"Mozilla/5.0 (Macintosh; Intel Mac OS X 10_9_4) AppleWebKit/537.36 (KHTML, like Gecko) Chrome/37.0.2062.94 Safari/537.36\"', '\"Mozilla/5.0 (Windows NT 6.1) AppleWebKit/537.36 (KHTML, like Gecko) Chrome/36.0.1985.143 Safari/537.36\"', '\"Mozilla/5.0 (Macintosh; Intel Mac OS X 10_9_4) AppleWebKit/537.78.2 (KHTML, like Gecko) Version/7.0.6 Safari/537.78.2\"', None, 'Mozilla/5.0 (compatible; MSIE 9.0; Windows NT 6.1; WOW64; Trident/5.0)', '\"Mozilla/5.0 (iPad; CPU OS 7_1_2 like Mac OS X) AppleWebKit/537.51.2 (KHTML, like Gecko) Version/7.0 Mobile/11D257 Safari/9537.53\"', 'Mozilla/5.0 (Macintosh; Intel Mac OS X 10.9; rv:31.0) Gecko/20100101 Firefox/31.0', '\"Mozilla/5.0 (Windows NT 6.1; WOW64) AppleWebKit/537.36 (KHTML, like Gecko) Chrome/37.0.2062.103 Safari/537.36\"', '\"Mozilla/5.0 (Windows NT 6.1; WOW64) AppleWebKit/537.36 (KHTML, like Gecko) Chrome/36.0.1985.125 Safari/537.36\"', 'Mozilla/5.0 (Windows NT 6.1; WOW64; rv:31.0) Gecko/20100101 Firefox/31.0', '\"Mozilla/5.0 (Macintosh; Intel Mac OS X 10_9_4) AppleWebKit/537.36 (KHTML, like Gecko) Chrome/36.0.1985.143 Safari/537.36\"', '\"Mozilla/5.0 (Macintosh; Intel Mac OS X 10_9_4) AppleWebKit/537.36 (KHTML, like Gecko) Chrome/36.0.1985.125 Safari/537.36\"', '\"Mozilla/5.0 (Macintosh; Intel Mac OS X 10_9_4) AppleWebKit/537.77.4 (KHTML, like Gecko) Version/7.0.5 Safari/537.77.4\"', '\"Mozilla/5.0 (Windows NT 6.1; WOW64) AppleWebKit/537.36 (KHTML, like Gecko) Chrome/36.0.1985.143 Safari/537.36\"']\n"
     ]
    },
    {
     "data": {
      "text/plain": [
       "count       57.000000\n",
       "mean      5026.315789\n",
       "std       5570.658201\n",
       "min         62.000000\n",
       "25%       1262.000000\n",
       "50%       2544.000000\n",
       "75%       7624.000000\n",
       "max      22751.000000\n",
       "Name: count, dtype: float64"
      ]
     },
     "execution_count": 10,
     "metadata": {},
     "output_type": "execute_result"
    }
   ],
   "source": [
    "# detailled analysis of feature \"userAgent\"\n",
    "pd_df = user_log.groupBy(\"userAgent\").count().orderBy(\"count\").toPandas()\n",
    "print(pd_df[\"userAgent\"].tolist())\n",
    "pd_df[\"count\"].describe()"
   ]
  },
  {
   "cell_type": "markdown",
   "metadata": {},
   "source": [
    "### Findings of descriptive statistics on data sample per feature: ###\n",
    "* Summary per feature:\n",
    "    * auth: no missing values; 4 distinct values. \n",
    "        * follow-up: check if missing values relate to value \"Logged Out\"\n",
    "    * artist: few missing values; 17655 distinct values.\n",
    "    * song: few missing values; 58480 distinct values.\n",
    "    * userID: no missing values; 226 distinct values.\n",
    "    * firstName: few missing values; 189 distinct values.\n",
    "    * LastName: few missing values; 173 distinct values.\n",
    "    * gender: few missing values; 2 distinct values.\n",
    "    * ItemInSession: no missing values; 1322 distinct values.\n",
    "        * follow-up: analyse meaning on example of one user\n",
    "    * length: few missing values; 14865 distinct values.\n",
    "        * follow-up: analyse meaning on example of one user\n",
    "    * level: no missing values; 2 distinct values.\n",
    "    * location: few missing values; 114 distinct values\n",
    "        * follow-up: analyse user locations according to Country, State, etc\n",
    "    * method: no missing values; 2 distinct values.\n",
    "        * follow-up: analyse meaning on example of one user\n",
    "    * page: no missing values; 22 distinct values.\n",
    "    * registration: few missing values; 225 distinct values.\n",
    "        * relates to 226 unique userID's minus empty name\n",
    "        * format equals timestamp -> follow-up: convert to time/date\n",
    "    * sessionID: few missing values; 2354 distinct values.\n",
    "        * follow-up: analyse meaning on example of one user\n",
    "    * status: no missing values; 3 distinct values.\n",
    "    * ts: no missing values; 277447 unique values.\n",
    "        * follow-up: conversion to date/ time\n",
    "        * follow-up: analyse spread of date/ time\n",
    "        * follow-up: further conversion to features for year/ month/ time\n",
    "    * userAgent: few missing values; 56 distinct values\n",
    "        * follow-up: further analyse values and value distribution\n",
    "\n",
    "* Follow-up summary:\n",
    "    1. \"auth\": check if missing values relate to value \"Logged Out\"\n",
    "    2. analyse meaning on example of one user:\n",
    "        * list = [\"ItemInSession\", \"length\", \"method\", \"sessionID\"]\n",
    "    3. print categorical features with low cardinality (less than 56 distinct values):\n",
    "        * list = [\"auth\", \"gender\", \"level\", \"method\", \"page\", \"status\", \"userAgent\"]\n",
    "        * value name and value counts\n",
    "    4. \"location\": analyse user locations and CSA (Combined Statistical Areas)\n",
    "    * convert to time/date via new feature:\n",
    "        * list = [\"registration\", \"ts\"]\n",
    "    5. \"ts\": analyse spread of date/ time\n",
    "    6. \"ts\": further conversion to features for year/ month/ time"
   ]
  },
  {
   "cell_type": "markdown",
   "metadata": {},
   "source": [
    "#### Findings on (1):\n",
    "* \"auth\" value \"Cancelled\" correlates to \"page\" value \"Cancellation Confirmed\".\n",
    "* \"auth\" value \"Guest\" does not have any relevant information on users and can for churn use case be dropped.\n",
    "    * follow-up: drop corresponding rows (user_log[\"auth\"]==\"Guest\")\n",
    "* \"auth\" value \"Logged Out\" does not have any relevant information on users and can for churn use case be dropped.\n",
    "    * follow-up: drop corresponding rows (user_log[\"auth\"]==\"\"Logged Out\"\") \n",
    "* \"auth\" values \"Logged In\" has no missing artist values at page value \"NextSong\" (ca  72% in sample data set).\n",
    "    * interpretation: users are in this cases listenting to music.\n",
    "* \"auth\" values \"Logged In\" has missing artist values at all other pages (ca 18%in sample data set).\n",
    "    * interpretation: users are in this cases not listenting to music, but doing other transactions"
   ]
  },
  {
   "cell_type": "markdown",
   "metadata": {},
   "source": [
    "#### (2) analyse meaning on example of one user: ####\n",
    "list = [\"ItemInSession\", \"length\", \"method\", \"sessionID\"]\n",
    "\n",
    "Findings:\n",
    "* number of items per \"sessionId\" does not equal values in \"ItemInSession\"\n",
    "* \"method\" appear to refer to user interaction. Interpretation:\n",
    "    * PUT: action by user. Therefore PUT data should be furhter analyzed.\n",
    "    * GET: reaction to user\n",
    "* \"lenght\" refers to song length\n",
    "* \"sessionID\": values are not unique. \n",
    "    * Several users can share the same session Id.\n",
    "    * an examplary analysis showed not direct relation between users that share the same sessionId"
   ]
  },
  {
   "cell_type": "markdown",
   "metadata": {},
   "source": [
    "#### Findings on (3) ####\n",
    "* \"status\": refers to html status codes (https://en.wikipedia.org/wiki/List_of_HTTP_status_codes)\n",
    "    * 200: page ok\n",
    "    * 307: Temporary redirect\n",
    "    * 404: error\n",
    "* \"userAgent\": needs to be split up into further features for analysis, e.g. influence of operating system"
   ]
  },
  {
   "cell_type": "markdown",
   "metadata": {},
   "source": [
    "#### (4) \"location\": analyse user locations and CSA (Combined Statistical Areas)"
   ]
  },
  {
   "cell_type": "code",
   "execution_count": 11,
   "metadata": {},
   "outputs": [],
   "source": [
    "# create new feature CSA (Combined Statistical Areas) from location \n",
    "get_csa = F.split(user_log[\"location\"], \", \")\n",
    "user_log = user_log.withColumn(\"CSA\", get_csa.getItem(1))"
   ]
  },
  {
   "cell_type": "code",
   "execution_count": 12,
   "metadata": {},
   "outputs": [
    {
     "name": "stdout",
     "output_type": "stream",
     "text": [
      "Distinct users per CSA: 226. Distinct users per location: 226\n"
     ]
    }
   ],
   "source": [
    "distinct_users_csa = user_log.select(\"userId\", \"CSA\").distinct().count()\n",
    "distinct_users_location = user_log.select(\"userId\", \"location\").distinct().count()\n",
    "print(\"Distinct users per CSA: {}. Distinct users per location: {}\".format(distinct_users_csa, distinct_users_location))"
   ]
  },
  {
   "cell_type": "markdown",
   "metadata": {},
   "source": [
    "####  (5) convert to time/date: ####\n",
    "list = [\"registration\", \"ts\"]"
   ]
  },
  {
   "cell_type": "code",
   "execution_count": 13,
   "metadata": {},
   "outputs": [],
   "source": [
    "def convert_ts_to_datetime(df, column):\n",
    "    get_datetime = F.udf(lambda timestamp: datetime.datetime.fromtimestamp(timestamp/1000).isoformat())\n",
    "    df = df.withColumn(column + \"_ts\", get_datetime(df[column]).cast(TimestampType()))\n",
    "    return df"
   ]
  },
  {
   "cell_type": "code",
   "execution_count": 14,
   "metadata": {},
   "outputs": [],
   "source": [
    "# create new features in timestamp format from features \"registration\", \"ts\"\n",
    "#column_list = [\"registration\", \"ts\"]\n",
    "user_log = convert_ts_to_datetime(user_log, \"ts\")"
   ]
  },
  {
   "cell_type": "markdown",
   "metadata": {},
   "source": [
    "#### (6) \"ts\": analyse spread of date/ time"
   ]
  },
  {
   "cell_type": "code",
   "execution_count": 15,
   "metadata": {},
   "outputs": [
    {
     "name": "stdout",
     "output_type": "stream",
     "text": [
      "Minimum and Maximum timestamp data:\n"
     ]
    },
    {
     "data": {
      "text/plain": [
       "(datetime.datetime(2018, 10, 1, 0, 1, 57),\n",
       " datetime.datetime(2018, 12, 3, 1, 11, 16))"
      ]
     },
     "execution_count": 15,
     "metadata": {},
     "output_type": "execute_result"
    }
   ],
   "source": [
    "min_date, max_date = user_log.select(F.min(\"ts_ts\"), F.max(\"ts_ts\")).first()\n",
    "print(\"Minimum and Maximum timestamp data:\")\n",
    "min_date, max_date"
   ]
  },
  {
   "cell_type": "markdown",
   "metadata": {},
   "source": [
    "#### (7) \"ts\": further conversion to features for date/ hour"
   ]
  },
  {
   "cell_type": "code",
   "execution_count": 16,
   "metadata": {},
   "outputs": [],
   "source": [
    "# get new features day and hour\n",
    "user_log = user_log.withColumn(\"ts_hour\", F.hour(\"ts_ts\"))\n",
    "user_log = user_log.withColumn(\"ts_date\", F.to_date(\"ts_ts\"))"
   ]
  },
  {
   "cell_type": "code",
   "execution_count": 17,
   "metadata": {},
   "outputs": [
    {
     "name": "stdout",
     "output_type": "stream",
     "text": [
      "Analyze log data over time:\n"
     ]
    },
    {
     "data": {
      "image/png": "[encoded data removed]",
      "text/plain": [
       "<matplotlib.figure.Figure at 0x7f6b1d6957b8>"
      ]
     },
     "metadata": {
      "needs_background": "light"
     },
     "output_type": "display_data"
    }
   ],
   "source": [
    "print(\"Analyze log data over time:\")\n",
    "#pd_df = user_log.select(hour(\"ts_ts\").alias(\"hour\")).groupBy(\"hour\").count().orderBy(\"hour\").toPandas()\n",
    "pd_df = user_log.select(\"ts_hour\").groupBy(\"ts_hour\").count().orderBy(\"ts_hour\").toPandas()\n",
    "pd_df.plot.line(x=\"ts_hour\", y=\"count\");"
   ]
  },
  {
   "cell_type": "markdown",
   "metadata": {},
   "source": [
    "## Features from \"page\" value ##"
   ]
  },
  {
   "cell_type": "markdown",
   "metadata": {},
   "source": [
    "### Selection of page values for new features:\n",
    "* \"downgraded\" from \"Submit Downgrad\"\n",
    "* ..."
   ]
  },
  {
   "cell_type": "code",
   "execution_count": 19,
   "metadata": {},
   "outputs": [],
   "source": [
    "def create_page_value_feature(df, page_value, col_name):\n",
    "    '''\n",
    "    ARGS:\n",
    "    OUTPUT\n",
    "    \n",
    "    Function that creates a new feature from a certain value of feature \"page\"\n",
    "    '''\n",
    "    flag_page_value_event = F.udf(lambda page: 1 if page == page_value else 0, IntegerType())\n",
    "    return df.withColumn(col_name, flag_page_value_event(\"page\"))"
   ]
  },
  {
   "cell_type": "code",
   "execution_count": 20,
   "metadata": {},
   "outputs": [],
   "source": [
    "page_value_feature_dict = {\"Submit Downgrade\" : \"downgraded\",\n",
    "                           \"Submit Upgrade\" : \"upgraded\",\n",
    "                           \"Roll Advert\" : \"advert_shown\",\n",
    "                           \"Thumbs Down\": \"thumps_down\",\n",
    "                           \"Thumbs Up\": \"thumps_up\",\n",
    "                           \"Add Friend\": \"friend_added\",\n",
    "                           \"Add to Playlist\" : \"song_added\"\n",
    "                          }\n",
    "\n",
    "for page_value in page_value_feature_dict.keys():\n",
    "    column_name = page_value_feature_dict[page_value]\n",
    "    user_log =  create_page_value_feature(user_log, page_value, column_name)"
   ]
  },
  {
   "cell_type": "markdown",
   "metadata": {},
   "source": [
    "## Define feature \"churn\""
   ]
  },
  {
   "cell_type": "code",
   "execution_count": 24,
   "metadata": {},
   "outputs": [],
   "source": [
    "flag_churn_event = F.udf(lambda page: 1 if page == \"Cancel\" else 0, IntegerType())\n",
    "user_log = user_log.withColumn(\"churn\", flag_churn_event(\"page\"))"
   ]
  },
  {
   "cell_type": "markdown",
   "metadata": {},
   "source": [
    "# Feature Engineering\n",
    "Once you've familiarized yourself with the data, build out the features you find promising to train your model on. To work with the full dataset, you can follow the following steps.\n",
    "- Write a script to extract the necessary features from the smaller subset of data\n",
    "- Ensure that your script is scalable, using the best practices discussed in Lesson 3\n",
    "- Try your script on the full data set, debugging your script if necessary\n",
    "\n",
    "If you are working in the classroom workspace, you can just extract features based on the small subset of data contained here. Be sure to transfer over this work to the larger dataset when you work on your Spark cluster."
   ]
  },
  {
   "cell_type": "markdown",
   "metadata": {},
   "source": [
    "## Explore data with regards to churn"
   ]
  },
  {
   "cell_type": "code",
   "execution_count": 46,
   "metadata": {},
   "outputs": [
    {
     "name": "stdout",
     "output_type": "stream",
     "text": [
      "Out of a total 225 users, 52 users churned. These are 23.1 %\n"
     ]
    }
   ],
   "source": [
    "all_users_count = user_log.select(\"userId\").filter(user_log[\"userId\"]!=\"\").distinct().count()\n",
    "churned_users_count = user_log.select(\"userId\").filter(user_log[\"churn\"]==1).distinct().count()\n",
    "print(\"Out of a total {} users, {} users churned. These are {:.1f} %\".format(\n",
    "all_users_count, churned_users_count, churned_users_count*100/all_users_count))"
   ]
  },
  {
   "cell_type": "markdown",
   "metadata": {},
   "source": [
    "## Create new dataframe for features bases on userId's"
   ]
  },
  {
   "cell_type": "code",
   "execution_count": 45,
   "metadata": {},
   "outputs": [],
   "source": [
    "# create new df for features\n",
    "all_users_collect = user_log.select(\"userId\").filter(user_log[\"userId\"]!=\"\").distinct().collect()\n",
    "all_users = set([int(row[\"userId\"]) for row in all_users_collect])\n",
    "features_df = spark.createDataFrame(all_users, IntegerType()).withColumnRenamed('value', 'userId')"
   ]
  },
  {
   "cell_type": "markdown",
   "metadata": {},
   "source": [
    "## Encode label \"churned users\""
   ]
  },
  {
   "cell_type": "code",
   "execution_count": 48,
   "metadata": {},
   "outputs": [],
   "source": [
    "# create feature \"label\" for churned users\n",
    "churned_users_collect = user_log.select(\"userId\").filter(user_log[\"churn\"]==1).collect()\n",
    "churned_users = set([int(row[\"userId\"]) for row in churned_users_collect])\n",
    "get_churn = F.udf(lambda user: 1 if user in churned_users else 0, IntegerType())\n",
    "features_df = features_df.withColumn(\"label\", get_churn(\"userId\"))"
   ]
  },
  {
   "cell_type": "markdown",
   "metadata": {},
   "source": [
    "## Encode features \"gender\", \"level\""
   ]
  },
  {
   "cell_type": "markdown",
   "metadata": {},
   "source": [
    "### Encode \"gender\"\n",
    "* gender value \"M\" = value 1\n",
    "* gender value \"F\" = value 0"
   ]
  },
  {
   "cell_type": "code",
   "execution_count": 49,
   "metadata": {},
   "outputs": [],
   "source": [
    "# one hot encode gender in original df\n",
    "one_hot_encode_gender = F.udf(lambda gender: 1 if gender == \"M\" else 0, IntegerType())\n",
    "user_log = user_log.withColumn(\"gender_bin\", one_hot_encode_gender(\"gender\"))"
   ]
  },
  {
   "cell_type": "code",
   "execution_count": 50,
   "metadata": {},
   "outputs": [],
   "source": [
    "# join binary gender on userId in features df\n",
    "user_gender_selection =  user_log.select([\"userId\", \"gender_bin\"]).dropDuplicates(subset=['userId'])\n",
    "features_df = features_df.join(user_gender_selection, \"userId\")"
   ]
  },
  {
   "cell_type": "markdown",
   "metadata": {},
   "source": [
    "### Encode \"level\"\n",
    "* level value \"paid\" = value 1\n",
    "* level value \"free\" = value 0"
   ]
  },
  {
   "cell_type": "code",
   "execution_count": 51,
   "metadata": {},
   "outputs": [],
   "source": [
    "# one hot encode level in original df\n",
    "one_hot_encode_level = F.udf(lambda level: 1 if level == \"paid\" else 0, IntegerType())\n",
    "user_log = user_log.withColumn(\"level_bin\", one_hot_encode_level(\"level\"))"
   ]
  },
  {
   "cell_type": "code",
   "execution_count": 52,
   "metadata": {
    "scrolled": true
   },
   "outputs": [],
   "source": [
    "# join binary gender on userId in features df\n",
    "user_level_selection =  user_log.select([\"userId\", \"level_bin\"]).dropDuplicates(subset=['userId'])\n",
    "features_df = features_df.join(user_level_selection, \"userId\")"
   ]
  },
  {
   "cell_type": "markdown",
   "metadata": {},
   "source": [
    "## Encode page view features\n",
    "* encode count of page view features per userId\n",
    "* page view features to be included: \n",
    "['downgraded',\n",
    " 'upgraded',\n",
    " 'advert_shown',\n",
    " 'thumps_down',\n",
    " 'thumps_up',\n",
    " 'friend_added',\n",
    " 'song_added']"
   ]
  },
  {
   "cell_type": "code",
   "execution_count": 53,
   "metadata": {},
   "outputs": [],
   "source": [
    "page_features_count = user_log.groupBy(\"userId\").sum('downgraded', 'upgraded',\n",
    " 'advert_shown',\n",
    " 'thumps_down',\n",
    " 'thumps_up',\n",
    " 'friend_added',\n",
    " 'song_added')\n",
    "features_df = features_df.join(page_features_count, \"userId\", how=\"left\")"
   ]
  },
  {
   "cell_type": "markdown",
   "metadata": {},
   "source": [
    "## Encode further features - tbd +++++++++++++\n",
    "* \"song_count\": songs per user\n",
    "* \"days_since_reg\": days from registration until latest user timestamp of a user"
   ]
  },
  {
   "cell_type": "code",
   "execution_count": 69,
   "metadata": {},
   "outputs": [
    {
     "data": {
      "text/plain": [
       "['artist',\n",
       " 'auth',\n",
       " 'firstName',\n",
       " 'gender',\n",
       " 'itemInSession',\n",
       " 'lastName',\n",
       " 'length',\n",
       " 'level',\n",
       " 'location',\n",
       " 'method',\n",
       " 'page',\n",
       " 'registration',\n",
       " 'sessionId',\n",
       " 'song',\n",
       " 'status',\n",
       " 'ts',\n",
       " 'userAgent',\n",
       " 'userId',\n",
       " 'CSA',\n",
       " 'ts_ts',\n",
       " 'ts_hour',\n",
       " 'ts_date',\n",
       " 'downgraded',\n",
       " 'upgraded',\n",
       " 'advert_shown',\n",
       " 'thumps_down',\n",
       " 'thumps_up',\n",
       " 'friend_added',\n",
       " 'song_added',\n",
       " 'churn',\n",
       " 'gender_bin',\n",
       " 'level_bin']"
      ]
     },
     "execution_count": 69,
     "metadata": {},
     "output_type": "execute_result"
    }
   ],
   "source": [
    "user_log.schema.names"
   ]
  },
  {
   "cell_type": "code",
   "execution_count": 73,
   "metadata": {},
   "outputs": [],
   "source": [
    "# create new feature \"song_count\" in features_df\n",
    "song_count = user_log.groupBy(\"userId\").agg(F.count(\"song\").alias(\"song_count\")).orderBy(\"song_count\", ascending=False)\n",
    "features_df = features_df.join(song_count, \"userId\", how=\"left\")"
   ]
  },
  {
   "cell_type": "code",
   "execution_count": 96,
   "metadata": {},
   "outputs": [],
   "source": [
    "# create new feature \"days_since_reg\" in features_df\n",
    "\n",
    "# create new features in timestamp format from features \"registration\"\n",
    "reg_df=user_log.select(\"userId\", \"registration\").filter(user_log[\"registration\"].isNotNull()).distinct()\n",
    "reg_df = convert_ts_to_datetime(reg_df, \"registration\")\n",
    "reg_df = reg_df.withColumn(\"reg_date\", F.to_date(\"registration_ts\"))\n",
    "\n",
    "# calculate difference between last user timestamp date and registration date\n",
    "last_user_ts = user_log.groupBy(\"userId\").agg(F.max(\"ts_date\").alias(\"last_user_ts_date\"))\n",
    "reg_df = reg_df.join(last_user_ts, \"userId\", how=\"left\")\n",
    "reg_df = reg_df.withColumn(\"days_since_reg\", F.datediff(\"last_user_ts_date\", \"reg_date\"))\n",
    "\n",
    "# add feature \"days_since_reg\" to features_df\n",
    "features_df = features_df.join(reg_df.select(\"userId\", \"days_since_reg\"), \"userId\", how=\"left\")"
   ]
  },
  {
   "cell_type": "code",
   "execution_count": 132,
   "metadata": {},
   "outputs": [],
   "source": [
    "# get new feature for accumulated session time per userId\n",
    "\n",
    "user_session_min_ts = user_log.groupBy(\"userId\", \"sessionID\").agg(F.min(\"ts\")).orderBy(\"userId\", \"sessionID\")\n",
    "user_session_max_ts = user_log.groupBy(\"userId\", \"sessionID\").agg(F.max(\"ts\")).orderBy(\"userId\", \"sessionID\")\n",
    "user_session_max_ts = user_session_max_ts.join(user_session_min_ts, [\"userId\", \"sessionID\"])\n",
    "user_session_max_ts = user_session_max_ts.withColumn(\"session_time_seconds\", ((user_session_max_ts[\"max(ts)\"]-user_session_max_ts[\"min(ts)\"])/1000).cast(LongType()))\n",
    "\n",
    "# calculate total session time per user\n",
    "total_user_session_time = user_session_max_ts.groupBy(\"userId\").agg(F.sum(\"session_time_seconds\").alias(\"total_session_time_sec\"))\n",
    "\n",
    "# add feature \"session_time_seconds\" to features_df\n",
    "features_df = features_df.join(total_user_session_time, \"userId\", how=\"left\")"
   ]
  },
  {
   "cell_type": "markdown",
   "metadata": {},
   "source": [
    "# Feature selection"
   ]
  },
  {
   "cell_type": "code",
   "execution_count": 133,
   "metadata": {
    "pixiedust": {
     "displayParams": {
      "handlerId": "tableView"
     }
    }
   },
   "outputs": [
    {
     "data": {
      "text/html": [
       "<style type=\"text/css\">.pd_warning{display:none;}</style><div class=\"pd_warning\"><em>Hey, there's something awesome here! To see it, open this notebook outside GitHub, in a viewer like Jupyter</em></div>"
      ],
      "text/plain": [
       "<IPython.core.display.HTML object>"
      ]
     },
     "metadata": {
      "pixieapp_metadata": null
     },
     "output_type": "display_data"
    }
   ],
   "source": [
    "display(features_df)"
   ]
  },
  {
   "cell_type": "code",
   "execution_count": null,
   "metadata": {},
   "outputs": [],
   "source": []
  },
  {
   "cell_type": "markdown",
   "metadata": {},
   "source": [
    "## Feature scaling and vectorization"
   ]
  },
  {
   "cell_type": "code",
   "execution_count": 124,
   "metadata": {},
   "outputs": [
    {
     "data": {
      "text/plain": [
       "['userId',\n",
       " 'label',\n",
       " 'gender_bin',\n",
       " 'level_bin',\n",
       " 'sum(downgraded)',\n",
       " 'sum(upgraded)',\n",
       " 'sum(advert_shown)',\n",
       " 'sum(thumps_down)',\n",
       " 'sum(thumps_up)',\n",
       " 'sum(friend_added)',\n",
       " 'sum(song_added)',\n",
       " 'sum(downgraded)_scaled',\n",
       " 'sum(upgraded)_scaled',\n",
       " 'sum(advert_shown)_scaled',\n",
       " 'sum(thumps_down)_scaled',\n",
       " 'sum(thumps_up)_scaled',\n",
       " 'sum(friend_added)_scaled',\n",
       " 'sum(song_added)_scaled',\n",
       " 'features',\n",
       " 'song_count',\n",
       " 'days_since_reg',\n",
       " 'total_session_time_sec']"
      ]
     },
     "execution_count": 124,
     "metadata": {},
     "output_type": "execute_result"
    }
   ],
   "source": [
    "features_df.schema.names"
   ]
  },
  {
   "cell_type": "markdown",
   "metadata": {},
   "source": [
    "### Vectorize and scale non-binary features\n",
    "* Vectorization via VectorAssembler\n",
    "* Scaling via MinMaxScaler\n",
    "* user Pipeline to combine both in the transformation process"
   ]
  },
  {
   "cell_type": "code",
   "execution_count": 131,
   "metadata": {},
   "outputs": [],
   "source": [
    "nonbinary_feature_list = [\n",
    " 'sum(downgraded)',\n",
    " 'sum(upgraded)',\n",
    " 'sum(advert_shown)',\n",
    " 'sum(thumps_down)',\n",
    " 'sum(thumps_up)',\n",
    " 'sum(friend_added)',\n",
    " 'sum(song_added)',\n",
    " 'song_count',\n",
    " 'days_since_reg',\n",
    " 'total_session_time_sec']"
   ]
  },
  {
   "cell_type": "code",
   "execution_count": 56,
   "metadata": {},
   "outputs": [],
   "source": [
    "convert_vector_to_double = F.udf(lambda vector_value: round(float(list(vector_value)[0]),3), DoubleType())\n",
    "\n",
    "\n",
    "for column in nonbinary_feature_list:\n",
    "    # convert column to vector via VectorAssembler\n",
    "    assembler = VectorAssembler(inputCols=[column], outputCol=column+\"_vect\")\n",
    "    # Scale vectorized column\n",
    "    scaler = MinMaxScaler(inputCol=column+\"_vect\", outputCol=column+\"_scaled\")\n",
    "    # create Pipeline with assembler and scaler\n",
    "    pipeline = Pipeline(stages=[assembler, scaler])\n",
    "    # apply pipelien on features_df Dataframe\n",
    "    features_df = pipeline.fit(features_df).transform(features_df) \\\n",
    "    .withColumn(column+\"_scaled\", convert_vector_to_double(column+\"_scaled\")).drop(column+\"_vect\")"
   ]
  },
  {
   "cell_type": "code",
   "execution_count": null,
   "metadata": {},
   "outputs": [],
   "source": [
    "features_df.printSchema()"
   ]
  },
  {
   "cell_type": "markdown",
   "metadata": {},
   "source": [
    "### Merge scaled features to one feature vector"
   ]
  },
  {
   "cell_type": "code",
   "execution_count": 57,
   "metadata": {},
   "outputs": [],
   "source": [
    "# create feature list that shall be merged in on vector\n",
    "feature_list = features_df.schema.names\n",
    "# remove columns userId, label and all items in nonbinary_feature_list\n",
    "remove_features_list= nonbinary_feature_list + [\"userId\", \"label\"]\n",
    "feature_list = [item for item in feature_list if item not in remove_features_list]\n",
    "# assemble features in feature_list to one vector using VectorAssembler\n",
    "assembler = VectorAssembler(inputCols=feature_list, outputCol=\"features\")\n",
    "features_df = assembler.transform(features_df)"
   ]
  },
  {
   "cell_type": "code",
   "execution_count": null,
   "metadata": {
    "scrolled": true
   },
   "outputs": [],
   "source": [
    "features_df.printSchema()"
   ]
  },
  {
   "cell_type": "markdown",
   "metadata": {},
   "source": [
    "## Perform PCA to select relevant features"
   ]
  },
  {
   "cell_type": "code",
   "execution_count": null,
   "metadata": {},
   "outputs": [],
   "source": [
    "pca = PCA(k=5, inputCol=\"features\", outputCol=\"pcaFeatures\")\n",
    "model = pca.fit(features_df[\"features\"])\n",
    "\n",
    "result = model.transform(features_df[\"features\"]).select(\"pcaFeatures\")\n",
    "result.show(truncate=False)"
   ]
  },
  {
   "cell_type": "markdown",
   "metadata": {},
   "source": [
    "# Modeling\n",
    "Split the full dataset into train, test, and validation sets. Test out several of the machine learning methods you learned. Evaluate the accuracy of the various models, tuning parameters as necessary. Determine your winning model based on test accuracy and report results on the validation set. Since the churned users are a fairly small subset, I suggest using F1 score as the metric to optimize."
   ]
  },
  {
   "cell_type": "markdown",
   "metadata": {},
   "source": [
    "## Split in training, test, validation set"
   ]
  },
  {
   "cell_type": "code",
   "execution_count": 58,
   "metadata": {
    "scrolled": true
   },
   "outputs": [
    {
     "data": {
      "image/png": "[encoded data removed]",
      "text/plain": [
       "<matplotlib.figure.Figure at 0x7f6ac82e8160>"
      ]
     },
     "metadata": {
      "needs_background": "light"
     },
     "output_type": "display_data"
    }
   ],
   "source": [
    "train, test = features_df.randomSplit([0.8, 0.2], seed=42)\n",
    "\n",
    "plt.hist(features_df.toPandas()['label'])\n",
    "plt.show()"
   ]
  },
  {
   "cell_type": "markdown",
   "metadata": {},
   "source": [
    "### Analyze label class imbalance - tbd +++++++++++++"
   ]
  },
  {
   "cell_type": "code",
   "execution_count": 60,
   "metadata": {},
   "outputs": [],
   "source": [
    "# calculate balancing ratio for account for class imbalance\n",
    "\n",
    "balancing_ratio = train.filter(train['label']==0).count()/train.count()\n",
    "train=train.withColumn(\"classWeights\", F.when(train.label == 1,balancing_ratio).otherwise(1-balancing_ratio))"
   ]
  },
  {
   "cell_type": "markdown",
   "metadata": {},
   "source": [
    "## Machine Learning Model Selection, Tuning and Evaluation\n",
    " * Model learning problem category: supervised learning, logistic regression\n",
    " * ML estimators from pyspark.ml:\n",
    "     * LogisticRegression\n",
    "     * tbd\n",
    " * ML hyperparameters in estimators (for grid search/ tuning):\n",
    "     * LogisticRegression(maxIter=10, regParam=0.0, elasticNetParam=0)\n",
    "     * tbd\n",
    " * ML evaluators from pyspark.ml:\n",
    "     * BinaryClassificationEvaluator\n",
    "     * tbd"
   ]
  },
  {
   "cell_type": "code",
   "execution_count": 61,
   "metadata": {},
   "outputs": [],
   "source": [
    "# Create a logistic regression object\n",
    "lr = LogisticRegression(featuresCol = 'features', labelCol = 'label', weightCol=\"classWeights\")\n",
    "\n",
    "# create evaluator\n",
    "evaluator = BinaryClassificationEvaluator(metricName = 'areaUnderPR')\n"
   ]
  },
  {
   "cell_type": "code",
   "execution_count": 62,
   "metadata": {},
   "outputs": [],
   "source": [
    "# create lr_model\n",
    "lr_model = lr.fit(train)\n",
    "training_summary = lr_model.summary"
   ]
  },
  {
   "cell_type": "code",
   "execution_count": null,
   "metadata": {},
   "outputs": [],
   "source": [
    "# ToDo: evaluate training summary ++++++++++++++++\n",
    "\n",
    "# TBD"
   ]
  },
  {
   "cell_type": "markdown",
   "metadata": {},
   "source": [
    "## Tune Model\n",
    "* use cross validation via CrossValidator and paramGrid"
   ]
  },
  {
   "cell_type": "code",
   "execution_count": 63,
   "metadata": {},
   "outputs": [],
   "source": [
    "# build paramGrid and cross validator\n",
    "paramGrid = (ParamGridBuilder() \\\n",
    "    .addGrid(lr.maxIter, [1, 5, 10]) \\\n",
    "    .addGrid(lr.regParam,[0.01, 0.1, 1.0]) \\\n",
    "    .addGrid(lr.elasticNetParam, [0.0, 0.5, 1.0]) \\\n",
    "    .build())\n",
    "\n",
    "\n",
    "crossval = CrossValidator(estimator=lr,\n",
    "                          estimatorParamMaps=paramGrid,\n",
    "                          evaluator=evaluator,\n",
    "                          numFolds=3)"
   ]
  },
  {
   "cell_type": "code",
   "execution_count": 64,
   "metadata": {},
   "outputs": [],
   "source": [
    "# run cross validation\n",
    "# train model on train data\n",
    "crossval_model = crossval.fit(train)\n",
    "# predict on test data\n",
    "pred = crossval_model.transform(test)"
   ]
  },
  {
   "cell_type": "code",
   "execution_count": null,
   "metadata": {},
   "outputs": [],
   "source": [
    "#cvModel_q1 = crossval.fit(training)"
   ]
  },
  {
   "cell_type": "code",
   "execution_count": null,
   "metadata": {},
   "outputs": [],
   "source": [
    "#cvModel_q1.avgMetrics"
   ]
  },
  {
   "cell_type": "code",
   "execution_count": null,
   "metadata": {},
   "outputs": [],
   "source": [
    "#results = cvModel_q1.transform(test)"
   ]
  },
  {
   "cell_type": "markdown",
   "metadata": {},
   "source": [
    "## Evaluate results\n",
    "* use scikit learn metrics f1, precision, recall for model evaluation"
   ]
  },
  {
   "cell_type": "code",
   "execution_count": 65,
   "metadata": {},
   "outputs": [],
   "source": [
    "# evaluate results\n",
    "pd_pred = pred.toPandas()"
   ]
  },
  {
   "cell_type": "code",
   "execution_count": 66,
   "metadata": {},
   "outputs": [
    {
     "data": {
      "text/html": [
       "<div>\n",
       "<style scoped>\n",
       "    .dataframe tbody tr th:only-of-type {\n",
       "        vertical-align: middle;\n",
       "    }\n",
       "\n",
       "    .dataframe tbody tr th {\n",
       "        vertical-align: top;\n",
       "    }\n",
       "\n",
       "    .dataframe thead th {\n",
       "        text-align: right;\n",
       "    }\n",
       "</style>\n",
       "<table border=\"1\" class=\"dataframe\">\n",
       "  <thead>\n",
       "    <tr style=\"text-align: right;\">\n",
       "      <th></th>\n",
       "      <th>userId</th>\n",
       "      <th>label</th>\n",
       "      <th>gender_bin</th>\n",
       "      <th>level_bin</th>\n",
       "      <th>sum(downgraded)</th>\n",
       "      <th>sum(upgraded)</th>\n",
       "      <th>sum(advert_shown)</th>\n",
       "      <th>sum(thumps_down)</th>\n",
       "      <th>sum(thumps_up)</th>\n",
       "      <th>sum(friend_added)</th>\n",
       "      <th>...</th>\n",
       "      <th>sum(upgraded)_scaled</th>\n",
       "      <th>sum(advert_shown)_scaled</th>\n",
       "      <th>sum(thumps_down)_scaled</th>\n",
       "      <th>sum(thumps_up)_scaled</th>\n",
       "      <th>sum(friend_added)_scaled</th>\n",
       "      <th>sum(song_added)_scaled</th>\n",
       "      <th>features</th>\n",
       "      <th>rawPrediction</th>\n",
       "      <th>probability</th>\n",
       "      <th>prediction</th>\n",
       "    </tr>\n",
       "  </thead>\n",
       "  <tbody>\n",
       "    <tr>\n",
       "      <th>0</th>\n",
       "      <td>137</td>\n",
       "      <td>0</td>\n",
       "      <td>1</td>\n",
       "      <td>0</td>\n",
       "      <td>0</td>\n",
       "      <td>1</td>\n",
       "      <td>10</td>\n",
       "      <td>1</td>\n",
       "      <td>8</td>\n",
       "      <td>8</td>\n",
       "      <td>...</td>\n",
       "      <td>0.25</td>\n",
       "      <td>0.078</td>\n",
       "      <td>0.013</td>\n",
       "      <td>0.018</td>\n",
       "      <td>0.056</td>\n",
       "      <td>0.017</td>\n",
       "      <td>[1.0, 0.0, 0.0, 0.25, 0.078, 0.013, 0.018, 0.0...</td>\n",
       "      <td>[-0.582222225032, 0.582222225032]</td>\n",
       "      <td>[0.358421420169, 0.641578579831]</td>\n",
       "      <td>1.0</td>\n",
       "    </tr>\n",
       "    <tr>\n",
       "      <th>1</th>\n",
       "      <td>65</td>\n",
       "      <td>0</td>\n",
       "      <td>1</td>\n",
       "      <td>0</td>\n",
       "      <td>0</td>\n",
       "      <td>1</td>\n",
       "      <td>8</td>\n",
       "      <td>17</td>\n",
       "      <td>111</td>\n",
       "      <td>53</td>\n",
       "      <td>...</td>\n",
       "      <td>0.25</td>\n",
       "      <td>0.062</td>\n",
       "      <td>0.227</td>\n",
       "      <td>0.254</td>\n",
       "      <td>0.371</td>\n",
       "      <td>0.283</td>\n",
       "      <td>[1.0, 0.0, 0.0, 0.25, 0.062, 0.227, 0.254, 0.3...</td>\n",
       "      <td>[0.896119455314, -0.896119455314]</td>\n",
       "      <td>[0.710151397173, 0.289848602827]</td>\n",
       "      <td>0.0</td>\n",
       "    </tr>\n",
       "    <tr>\n",
       "      <th>2</th>\n",
       "      <td>133</td>\n",
       "      <td>0</td>\n",
       "      <td>1</td>\n",
       "      <td>0</td>\n",
       "      <td>0</td>\n",
       "      <td>0</td>\n",
       "      <td>1</td>\n",
       "      <td>0</td>\n",
       "      <td>2</td>\n",
       "      <td>1</td>\n",
       "      <td>...</td>\n",
       "      <td>0.00</td>\n",
       "      <td>0.008</td>\n",
       "      <td>0.000</td>\n",
       "      <td>0.005</td>\n",
       "      <td>0.007</td>\n",
       "      <td>0.013</td>\n",
       "      <td>[1.0, 0.0, 0.0, 0.0, 0.008, 0.0, 0.005, 0.007,...</td>\n",
       "      <td>[-0.48276677666, 0.48276677666]</td>\n",
       "      <td>[0.381599004404, 0.618400995596]</td>\n",
       "      <td>1.0</td>\n",
       "    </tr>\n",
       "    <tr>\n",
       "      <th>3</th>\n",
       "      <td>78</td>\n",
       "      <td>0</td>\n",
       "      <td>0</td>\n",
       "      <td>0</td>\n",
       "      <td>0</td>\n",
       "      <td>0</td>\n",
       "      <td>16</td>\n",
       "      <td>3</td>\n",
       "      <td>11</td>\n",
       "      <td>2</td>\n",
       "      <td>...</td>\n",
       "      <td>0.00</td>\n",
       "      <td>0.125</td>\n",
       "      <td>0.040</td>\n",
       "      <td>0.025</td>\n",
       "      <td>0.014</td>\n",
       "      <td>0.037</td>\n",
       "      <td>[0.0, 0.0, 0.0, 0.0, 0.125, 0.04, 0.025, 0.014...</td>\n",
       "      <td>[-0.261030769771, 0.261030769771]</td>\n",
       "      <td>[0.435110339059, 0.564889660941]</td>\n",
       "      <td>1.0</td>\n",
       "    </tr>\n",
       "    <tr>\n",
       "      <th>4</th>\n",
       "      <td>76</td>\n",
       "      <td>0</td>\n",
       "      <td>1</td>\n",
       "      <td>0</td>\n",
       "      <td>0</td>\n",
       "      <td>0</td>\n",
       "      <td>15</td>\n",
       "      <td>2</td>\n",
       "      <td>13</td>\n",
       "      <td>3</td>\n",
       "      <td>...</td>\n",
       "      <td>0.00</td>\n",
       "      <td>0.117</td>\n",
       "      <td>0.027</td>\n",
       "      <td>0.030</td>\n",
       "      <td>0.021</td>\n",
       "      <td>0.017</td>\n",
       "      <td>[1.0, 0.0, 0.0, 0.0, 0.117, 0.027, 0.03, 0.021...</td>\n",
       "      <td>[-0.569896815398, 0.569896815398]</td>\n",
       "      <td>[0.361260634501, 0.638739365499]</td>\n",
       "      <td>1.0</td>\n",
       "    </tr>\n",
       "  </tbody>\n",
       "</table>\n",
       "<p>5 rows × 22 columns</p>\n",
       "</div>"
      ],
      "text/plain": [
       "   userId  label  gender_bin  level_bin  sum(downgraded)  sum(upgraded)  \\\n",
       "0     137      0           1          0                0              1   \n",
       "1      65      0           1          0                0              1   \n",
       "2     133      0           1          0                0              0   \n",
       "3      78      0           0          0                0              0   \n",
       "4      76      0           1          0                0              0   \n",
       "\n",
       "   sum(advert_shown)  sum(thumps_down)  sum(thumps_up)  sum(friend_added)  \\\n",
       "0                 10                 1               8                  8   \n",
       "1                  8                17             111                 53   \n",
       "2                  1                 0               2                  1   \n",
       "3                 16                 3              11                  2   \n",
       "4                 15                 2              13                  3   \n",
       "\n",
       "     ...      sum(upgraded)_scaled  sum(advert_shown)_scaled  \\\n",
       "0    ...                      0.25                     0.078   \n",
       "1    ...                      0.25                     0.062   \n",
       "2    ...                      0.00                     0.008   \n",
       "3    ...                      0.00                     0.125   \n",
       "4    ...                      0.00                     0.117   \n",
       "\n",
       "   sum(thumps_down)_scaled  sum(thumps_up)_scaled  sum(friend_added)_scaled  \\\n",
       "0                    0.013                  0.018                     0.056   \n",
       "1                    0.227                  0.254                     0.371   \n",
       "2                    0.000                  0.005                     0.007   \n",
       "3                    0.040                  0.025                     0.014   \n",
       "4                    0.027                  0.030                     0.021   \n",
       "\n",
       "   sum(song_added)_scaled                                           features  \\\n",
       "0                   0.017  [1.0, 0.0, 0.0, 0.25, 0.078, 0.013, 0.018, 0.0...   \n",
       "1                   0.283  [1.0, 0.0, 0.0, 0.25, 0.062, 0.227, 0.254, 0.3...   \n",
       "2                   0.013  [1.0, 0.0, 0.0, 0.0, 0.008, 0.0, 0.005, 0.007,...   \n",
       "3                   0.037  [0.0, 0.0, 0.0, 0.0, 0.125, 0.04, 0.025, 0.014...   \n",
       "4                   0.017  [1.0, 0.0, 0.0, 0.0, 0.117, 0.027, 0.03, 0.021...   \n",
       "\n",
       "                       rawPrediction                       probability  \\\n",
       "0  [-0.582222225032, 0.582222225032]  [0.358421420169, 0.641578579831]   \n",
       "1  [0.896119455314, -0.896119455314]  [0.710151397173, 0.289848602827]   \n",
       "2    [-0.48276677666, 0.48276677666]  [0.381599004404, 0.618400995596]   \n",
       "3  [-0.261030769771, 0.261030769771]  [0.435110339059, 0.564889660941]   \n",
       "4  [-0.569896815398, 0.569896815398]  [0.361260634501, 0.638739365499]   \n",
       "\n",
       "  prediction  \n",
       "0        1.0  \n",
       "1        0.0  \n",
       "2        1.0  \n",
       "3        1.0  \n",
       "4        1.0  \n",
       "\n",
       "[5 rows x 22 columns]"
      ]
     },
     "execution_count": 66,
     "metadata": {},
     "output_type": "execute_result"
    }
   ],
   "source": [
    "pd_pred.head()"
   ]
  },
  {
   "cell_type": "code",
   "execution_count": 67,
   "metadata": {},
   "outputs": [],
   "source": [
    "# calculate score for f1, precision, recall\n",
    "f1 = f1_score(pd_pred.label, pd_pred.prediction)\n",
    "recall = recall_score(pd_pred.label, pd_pred.prediction)\n",
    "precision = precision_score(pd_pred.label, pd_pred.prediction)"
   ]
  },
  {
   "cell_type": "code",
   "execution_count": 68,
   "metadata": {},
   "outputs": [
    {
     "name": "stdout",
     "output_type": "stream",
     "text": [
      "F1 Score: 0.29, Recall: 0.40, Precision: 0.22\n"
     ]
    }
   ],
   "source": [
    "print(\"F1 Score: {:.2f}, Recall: {:.2f}, Precision: {:.2f}\".format(f1, recall, precision))"
   ]
  },
  {
   "cell_type": "code",
   "execution_count": null,
   "metadata": {},
   "outputs": [],
   "source": [
    "# TODO: change label or create feature label\n",
    "\n",
    "#correct_results = (results.filter(results.label == results.prediction).count())\n",
    "#total_results= (results.count())\n",
    "#accuracy = correct_results/ total_results"
   ]
  },
  {
   "cell_type": "markdown",
   "metadata": {},
   "source": [
    "# Final Steps\n",
    "Clean up your code, adding comments and renaming variables to make the code easier to read and maintain. Refer to the Spark Project Overview page and Data Scientist Capstone Project Rubric to make sure you are including all components of the capstone project and meet all expectations. Remember, this includes thorough documentation in a README file in a Github repository, as well as a web app or blog post."
   ]
  },
  {
   "cell_type": "code",
   "execution_count": null,
   "metadata": {},
   "outputs": [],
   "source": []
  }
 ],
 "metadata": {
  "kernelspec": {
   "display_name": "Python 3",
   "language": "python",
   "name": "python3"
  }
 },
 "nbformat": 4,
 "nbformat_minor": 2
}
